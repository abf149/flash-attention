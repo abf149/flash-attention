{
 "cells": [
  {
   "cell_type": "code",
   "execution_count": 1,
   "id": "68449ac9",
   "metadata": {},
   "outputs": [],
   "source": [
    "#!PYTHONPATH=$PWD python3 benchmarks/benchmark_flash_attention.py > bench.log"
   ]
  },
  {
   "cell_type": "code",
   "execution_count": 2,
   "id": "ecf60115",
   "metadata": {},
   "outputs": [
    {
     "name": "stdout",
     "output_type": "stream",
     "text": [
      "FlashAttention - Forward pass\r\n",
      "<torch.utils.benchmark.utils.common.Measurement object at 0x7f69db24e1f0>\r\n",
      "fn_amp(*inputs, **kwinputs)\r\n",
      "  5.56 ms\r\n",
      "  1 measurement, 30 runs , 8 threads\r\n",
      "FlashAttention - Backward pass\r\n",
      "<torch.utils.benchmark.utils.common.Measurement object at 0x7f69db24e430>\r\n",
      "y.backward(grad, retain_graph=True)\r\n",
      "  14.46 ms\r\n",
      "  1 measurement, 30 runs , 8 threads\r\n",
      "FlashAttention - Forward + Backward pass\r\n",
      "<torch.utils.benchmark.utils.common.Measurement object at 0x7f69db24e730>\r\n",
      "f(grad, *inputs, **kwinputs)\r\n",
      "  20.46 ms\r\n",
      "  1 measurement, 30 runs , 8 threads\r\n",
      "PyTorch Standard Attention - Forward pass\r\n",
      "<torch.utils.benchmark.utils.common.Measurement object at 0x7f69db24e340>\r\n",
      "fn_amp(*inputs, **kwinputs)\r\n",
      "  26.65 ms\r\n",
      "  1 measurement, 30 runs , 8 threads\r\n",
      "PyTorch Standard Attention - Backward pass\r\n",
      "<torch.utils.benchmark.utils.common.Measurement object at 0x7f69db24e5e0>\r\n",
      "y.backward(grad, retain_graph=True)\r\n",
      "  70.14 ms\r\n",
      "  1 measurement, 30 runs , 8 threads\r\n",
      "PyTorch Standard Attention - Forward + Backward pass\r\n",
      "<torch.utils.benchmark.utils.common.Measurement object at 0x7f69db24e8e0>\r\n",
      "f(grad, *inputs, **kwinputs)\r\n",
      "  96.80 ms\r\n",
      "  1 measurement, 30 runs , 8 threads\r\n"
     ]
    }
   ],
   "source": [
    "!cat bench.log"
   ]
  },
  {
   "cell_type": "code",
   "execution_count": 14,
   "id": "7828818d",
   "metadata": {},
   "outputs": [
    {
     "name": "stdout",
     "output_type": "stream",
     "text": [
      "FlashAttention\n",
      "Forward pass\n",
      "<pass 3 >\n",
      "<pass 2 >\n",
      "5.56\n",
      "FlashAttention\n",
      "Backward pass\n",
      "<pass 3 >\n",
      "<pass 2 >\n",
      "14.46\n",
      "FlashAttention\n",
      "Forward + Backward pass\n",
      "<pass 3 >\n",
      "<pass 2 >\n",
      "20.46\n"
     ]
    }
   ],
   "source": [
    "data={}\n",
    "with open(\"bench.log\",\"r\") as fp:\n",
    "    att_type=\"\"\n",
    "    pass_dir=\"\"\n",
    "    bypass=0\n",
    "    time_str=\"\"\n",
    "    for ln in fp:\n",
    "        if bypass >1:\n",
    "            #print(\"<pass\",bypass,\">\")            \n",
    "            bypass-=1 #Ignore lines until bypass==1\n",
    "        elif bypass == 1:\n",
    "            #Collect runtime measurement\n",
    "            time_str=ln.split()[0]\n",
    "            data[att_type+pass_dir]=float(time_str)\n",
    "            bypass=0\n",
    "            #print(float(time_str))\n",
    "        else:\n",
    "            if \"FlashAttention\" in ln:\n",
    "                # Identify attention type and direction for experiment\n",
    "                att_type=\"FlashAttention\"\n",
    "                pass_dir=ln.split(\"-\")[1][1:].strip()\n",
    "                bypass=3\n",
    "                #print(att_type)\n",
    "                #print(pass_dir)"
   ]
  },
  {
   "cell_type": "code",
   "execution_count": null,
   "id": "e912d1a5",
   "metadata": {},
   "outputs": [],
   "source": []
  }
 ],
 "metadata": {
  "kernelspec": {
   "display_name": "Python 3 (ipykernel)",
   "language": "python",
   "name": "python3"
  },
  "language_info": {
   "codemirror_mode": {
    "name": "ipython",
    "version": 3
   },
   "file_extension": ".py",
   "mimetype": "text/x-python",
   "name": "python",
   "nbconvert_exporter": "python",
   "pygments_lexer": "ipython3",
   "version": "3.8.10"
  }
 },
 "nbformat": 4,
 "nbformat_minor": 5
}
